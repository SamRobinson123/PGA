{
 "cells": [
  {
   "cell_type": "code",
   "execution_count": 18,
   "id": "52167d70-99c9-4f3e-80d9-b943e19c4b36",
   "metadata": {},
   "outputs": [],
   "source": [
    "%run packages.ipynb\n",
    "%run func.ipynb"
   ]
  },
  {
   "cell_type": "markdown",
   "id": "407c0323-c0b5-4574-a176-caf9f1636ee2",
   "metadata": {},
   "source": [
    "## Requirments "
   ]
  },
  {
   "cell_type": "code",
   "execution_count": 19,
   "id": "8bc5ac67-ed25-4598-8a54-6a12000b6607",
   "metadata": {},
   "outputs": [],
   "source": [
    "# List of all seasons from 2004 to the current season\n",
    "seasons = [f\"{year}-{year+1}\" for year in range(2004, 2024)]\n",
    "\n",
    "# List of all valid PGA tournaments (example list, you need to update it with all valid tournaments)\n",
    "tournaments = [\n",
    "    \"U.S. Open\", \"Masters Tournament\", \"PGA Championship\", \"The Open Championship\",\n",
    "    \"The Players Championship\", \"FedEx St. Jude Championship\", \"BMW Championship\",\n",
    "    \"TOUR Championship\", \"Arnold Palmer Invitational\", \"Memorial Tournament\",\n",
    "    \"WGC-Dell Technologies Match Play\", \"WGC-FedEx St. Jude Invitational\",\n",
    "    \"WGC-HSBC Champions\", \"WGC-Mexico Championship\", \"Sentry Tournament of Champions\",\n",
    "    \"Sony Open in Hawaii\", \"American Express\", \"Farmers Insurance Open\",\n",
    "    \"Waste Management Phoenix Open\", \"AT&T Pebble Beach Pro-Am\",\n",
    "    \"Genesis Invitational\", \"Honda Classic\", \"Arnold Palmer Invitational\",\n",
    "    \"THE PLAYERS Championship\", \"Valspar Championship\", \"WGC-Dell Technologies Match Play\",\n",
    "    \"Valero Texas Open\", \"RBC Heritage\", \"Zurich Classic of New Orleans\",\n",
    "    \"Wells Fargo Championship\", \"AT&T Byron Nelson\", \"Charles Schwab Challenge\",\n",
    "    \"the Memorial Tournament\", \"RBC Canadian Open\", \"Travelers Championship\",\n",
    "    \"Rocket Mortgage Classic\", \"John Deere Classic\", \"Barbasol Championship\",\n",
    "    \"Barracuda Championship\", \"3M Open\", \"Wyndham Championship\", \"FedEx St. Jude Championship\",\n",
    "    \"BMW Championship\", \"TOUR Championship\"\n",
    "    # Add more tournaments here\n",
    "]\n",
    "\n",
    "# Initialize an empty list to store the data\n",
    "data = []"
   ]
  },
  {
   "cell_type": "markdown",
   "id": "4bec8825-2bf8-4dba-9e9f-a6320527ec2d",
   "metadata": {},
   "source": [
    "## Iterate Over Rows"
   ]
  },
  {
   "cell_type": "code",
   "execution_count": 20,
   "id": "a38add75-5e91-42dc-b143-a8d4ddfba63f",
   "metadata": {},
   "outputs": [],
   "source": [
    "# Iterate over each combination of season and tournament\n",
    "# for season in seasons:\n",
    "#     for tournament in tournaments:\n",
    "#         url = f\"https://www.pgatour.com/stats/detail/02564?season={season}&tournament={tournament.replace(' ', '%20')}\"\n",
    "#         response = requests.get(url)\n",
    "#         doc = BeautifulSoup(response.text, \"html.parser\")\n",
    "\n",
    "#         # Find the table with the class name you identified\n",
    "#         table = doc.find(\"table\", {\"class\": \"table-styled\"})\n",
    "#         if table:\n",
    "#             rows = table.find_all(\"tr\")\n",
    "#             for row in rows:\n",
    "#                 columns = row.find_all(\"td\")\n",
    "#                 row_data = [col.text.strip() for col in columns]\n",
    "#                 if row_data:\n",
    "#                     row_data.extend([season, tournament])  # Append season and tournament info\n",
    "#                     data.append(row_data)\n",
    "        \n",
    "#         # Add a delay to avoid overloading the server with requests\n",
    "#         time.sleep(1)"
   ]
  },
  {
   "cell_type": "markdown",
   "id": "d41cd707-0031-4d1f-9eea-11aff7b4e01a",
   "metadata": {},
   "source": [
    "## Collect Data Concurently "
   ]
  },
  {
   "cell_type": "code",
   "execution_count": 21,
   "id": "6a0a240a-b8f6-4f79-89e2-071e4e41a499",
   "metadata": {},
   "outputs": [],
   "source": [
    "# List to hold all the scraped data\n",
    "all_data = []\n",
    "\n",
    "# Use ThreadPoolExecutor to scrape data concurrently\n",
    "with ThreadPoolExecutor(max_workers=10) as executor:\n",
    "    futures = []\n",
    "    for season in seasons:\n",
    "        for tournament in tournaments:\n",
    "            url = f\"https://www.pgatour.com/stats/detail/02564?season={season}&tournament={tournament.replace(' ', '%20')}\"\n",
    "            futures.append(executor.submit(scrape_data, url, season, tournament))\n",
    "    \n",
    "    for future in futures:\n",
    "        all_data.extend(future.result())"
   ]
  },
  {
   "cell_type": "markdown",
   "id": "eccc4634-6751-4856-8ac3-eeb7da2b9f1d",
   "metadata": {},
   "source": [
    "## Convert To Data Frame"
   ]
  },
  {
   "cell_type": "code",
   "execution_count": 22,
   "id": "e9522754-cd26-40ab-9c88-9adf48ad46b4",
   "metadata": {},
   "outputs": [],
   "source": [
    "# Convert to a data frame\n",
    "columns = [\"Rank\", \"Player\", \"Average\", \"Total SG:Putting\", \"Measured Rounds\", \"Season\", \"Tournament\"]\n",
    "# Convert the list of scraped data into a DataFrame\n",
    "putting_df = pd.DataFrame(all_data, columns=columns)"
   ]
  },
  {
   "cell_type": "code",
   "execution_count": 24,
   "id": "bdef207b-b0c9-4acd-bb88-a4e5133aeadc",
   "metadata": {},
   "outputs": [
    {
     "name": "stdout",
     "output_type": "stream",
     "text": [
      "Total rows scraped: 0\n"
     ]
    }
   ],
   "source": [
    "# Print the length of all_data to check if it contains any data\n",
    "print(f\"Total rows scraped: {len(all_data)}\")"
   ]
  }
 ],
 "metadata": {
  "kernelspec": {
   "display_name": "Python 3 (ipykernel)",
   "language": "python",
   "name": "python3"
  },
  "language_info": {
   "codemirror_mode": {
    "name": "ipython",
    "version": 3
   },
   "file_extension": ".py",
   "mimetype": "text/x-python",
   "name": "python",
   "nbconvert_exporter": "python",
   "pygments_lexer": "ipython3",
   "version": "3.12.3"
  }
 },
 "nbformat": 4,
 "nbformat_minor": 5
}
