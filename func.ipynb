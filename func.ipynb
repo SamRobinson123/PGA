{
 "cells": [
  {
   "cell_type": "code",
   "execution_count": 1,
   "id": "30a7d51e-1fcd-41b0-a02a-043ad1726d84",
   "metadata": {},
   "outputs": [],
   "source": [
    "# Function to fetch and parse data from a single URL\n",
    "def fetch_data(season, tournament):\n",
    "    try:\n",
    "        url = f\"https://www.pgatour.com/stats/detail/02564?season={season}&tournament={tournament.replace(' ', '%20')}\"\n",
    "        response = requests.get(url)\n",
    "        doc = BeautifulSoup(response.text, \"html.parser\")\n",
    "\n",
    "        # Find the table with the class name you identified\n",
    "        table = doc.find(\"table\", {\"class\": \"table-styled\"})\n",
    "        if table:\n",
    "            rows = table.find_all(\"tr\")\n",
    "            for row in rows:\n",
    "                columns = row.find_all(\"td\")\n",
    "                row_data = [col.text.strip() for col in columns]\n",
    "                if row_data:\n",
    "                    row_data.extend([season, tournament])  # Append season and tournament info\n",
    "                    data.append(row_data)\n",
    "        return data\n",
    "    except Exception as e:\n",
    "        print(f\"Error fetching data for {season} - {tournament}: {e}\")\n",
    "        return []"
   ]
  }
 ],
 "metadata": {
  "kernelspec": {
   "display_name": "Python 3 (ipykernel)",
   "language": "python",
   "name": "python3"
  },
  "language_info": {
   "codemirror_mode": {
    "name": "ipython",
    "version": 3
   },
   "file_extension": ".py",
   "mimetype": "text/x-python",
   "name": "python",
   "nbconvert_exporter": "python",
   "pygments_lexer": "ipython3",
   "version": "3.12.3"
  }
 },
 "nbformat": 4,
 "nbformat_minor": 5
}
